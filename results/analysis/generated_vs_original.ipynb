{
 "cells": [
  {
   "cell_type": "code",
   "execution_count": null,
   "metadata": {},
   "outputs": [],
   "source": [
    "# Figure 6: Predicted and original molecules\n",
    "import json\n",
    "from rdkit import Chem\n",
    "from rdkit.Chem import Draw\n",
    "import random\n",
    "\n",
    "with open('../models/contrastive0.5/outputs/test_outputs_1_attempts.json', 'r') as f:\n",
    "    data = json.load(f)\n",
    "\n",
    "# Select 10 random samples where the predicted SMILES string is not equal to the original SMILES string\n",
    "wrong_samples = [sample for sample in data if sample['predicted'][0] != sample['original']]\n",
    "random_samples = random.sample(wrong_samples, 5)\n",
    "\n",
    "# Create a list of tuples containing the predicted and actual SMILES strings\n",
    "smiles_list = [(sample['predicted'][0], sample['original']) for sample in random_samples]\n",
    "\n",
    "# Convert the SMILES strings to molecular objects\n",
    "predicted_molecules = [Chem.MolFromSmiles(smiles[0]) for smiles in smiles_list]\n",
    "original_molecules = [Chem.MolFromSmiles(smiles[1]) for smiles in smiles_list]\n",
    "\n",
    "# Draw the predicted molecules\n",
    "Draw.MolsToGridImage(predicted_molecules, molsPerRow=5, subImgSize=(300,300), legends=[smiles[0] for smiles in smiles_list])"
   ]
  },
  {
   "cell_type": "code",
   "execution_count": null,
   "metadata": {},
   "outputs": [],
   "source": [
    "# Draw the original molecules\n",
    "Draw.MolsToGridImage(original_molecules, molsPerRow=5, subImgSize=(300,300), legends=[smiles[1] for smiles in smiles_list])"
   ]
  }
 ],
 "metadata": {
  "kernelspec": {
   "display_name": "_ir-coca",
   "language": "python",
   "name": "python3"
  },
  "language_info": {
   "codemirror_mode": {
    "name": "ipython",
    "version": 3
   },
   "file_extension": ".py",
   "mimetype": "text/x-python",
   "name": "python",
   "nbconvert_exporter": "python",
   "pygments_lexer": "ipython3",
   "version": "3.8.9"
  }
 },
 "nbformat": 4,
 "nbformat_minor": 2
}
